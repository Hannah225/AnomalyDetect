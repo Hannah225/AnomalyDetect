{
 "cells": [
  {
   "cell_type": "code",
   "execution_count": 3,
   "metadata": {},
   "outputs": [
    {
     "data": {
      "text/plain": [
       "'c:\\\\Users\\\\Hannah Blaurock\\\\Desktop\\\\AnomalyDetect\\\\AnDetect'"
      ]
     },
     "execution_count": 3,
     "metadata": {},
     "output_type": "execute_result"
    }
   ],
   "source": [
    "import os\n",
    "\n",
    "\n",
    "os.path.abspath('')"
   ]
  },
  {
   "cell_type": "code",
   "execution_count": 2,
   "metadata": {},
   "outputs": [
    {
     "name": "stdout",
     "output_type": "stream",
     "text": [
      "Dataset: All Data\n",
      "Partition: 100.00%\n",
      "Total Length: 37824\n",
      "Errors: Ussing Error-Threshold 0\n",
      "Number of Errors: 0.054621404399323184\n",
      "Number of Non-errors: 0.9453785956006768\n",
      "Percent of non-errors: 0.00%\n",
      "\n",
      "Dataset: Trainingdata\n",
      "Partition: 65.01%\n",
      "Total Length: 24589\n",
      "Errors: Ussing Error-Threshold 0\n",
      "Number of Errors: 0.07222741876448818\n",
      "Number of Non-errors: 0.9277725812355118\n",
      "Percent of non-errors: 0.00%\n",
      "\n",
      "Dataset: Testdata\n",
      "Partition: 34.99%\n",
      "Total Length: 13235\n",
      "Errors: Ussing Error-Threshold 0\n",
      "Number of Errors: 0.0219115980355119\n",
      "Number of Non-errors: 0.9780884019644881\n",
      "Percent of non-errors: 0.01%\n",
      "\n"
     ]
    }
   ],
   "source": [
    "import matplotlib.pyplot as plt\n",
    "\n",
    "import torch\n",
    "from torch import nn\n",
    "from torch.utils.data import DataLoader, WeightedRandomSampler\n",
    "\n",
    "import Process_data\n",
    "from Model_TestTrain import MLP_Residual, train_model, test_model\n",
    "\n",
    "##GET THE DATA\n",
    "gen_data = False #do we want to use generated data for the sanity check\n",
    "use_gaussian_data = False #Gaussian data currently not useable (minor fixes needed)\n",
    "\n",
    "\n",
    "if gen_data:\n",
    "    test_df, train_ds, test_y = Process_data.use_gen_data(\n",
    "        mean_var_error = (1, 0.5, 1.5, 1), #(mu, sigma of mean dist; mu, sigma of var dist if there is an error)\n",
    "        mean_var_noError = (1, 1, 1, 0.5) #(mu, sigma of mean dist; mu, sigma of var dist if there is NO error)\n",
    "    )\n",
    "else:\n",
    "    df = Process_data.get_data()\n",
    "    train_ds, test_ds, test_y = Process_data.data_preprocess(df)\n"
   ]
  },
  {
   "cell_type": "code",
   "execution_count": 6,
   "metadata": {},
   "outputs": [
    {
     "data": {
      "text/plain": [
       "256"
      ]
     },
     "execution_count": 6,
     "metadata": {},
     "output_type": "execute_result"
    }
   ],
   "source": [
    "train_ds.__getitem__(1)[0].shape[0]"
   ]
  }
 ],
 "metadata": {
  "kernelspec": {
   "display_name": "Python 3",
   "language": "python",
   "name": "python3"
  },
  "language_info": {
   "codemirror_mode": {
    "name": "ipython",
    "version": 3
   },
   "file_extension": ".py",
   "mimetype": "text/x-python",
   "name": "python",
   "nbconvert_exporter": "python",
   "pygments_lexer": "ipython3",
   "version": "3.9.9"
  }
 },
 "nbformat": 4,
 "nbformat_minor": 2
}
